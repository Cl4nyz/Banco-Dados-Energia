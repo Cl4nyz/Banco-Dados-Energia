{
 "cells": [
  {
   "cell_type": "code",
   "execution_count": 24,
   "id": "550230c9",
   "metadata": {},
   "outputs": [],
   "source": [
    "import pandas as pd\n",
    "\n",
    "ENERGY_CSV = 'bancos/energia.csv'\n",
    "PROC_ENERGY_CSV = 'bancos_preprocessados/energia.csv'"
   ]
  },
  {
   "cell_type": "code",
   "execution_count": 44,
   "id": "686f032e",
   "metadata": {},
   "outputs": [],
   "source": [
    "def pre_process_energy_data():\n",
    "\t'''Abre o arquivo CSV e faz o pré-processamento dos dados.'''\n",
    "\tdf = pd.read_csv(ENERGY_CSV)\n",
    "\tdf.drop(columns=['Area type', 'YoY absolute change', 'YoY % change'], inplace=True)\n",
    "\tdf.dropna(subset=['Country code'], inplace=True)\n",
    "\tdf.drop(df[df['Subcategory'] == 'Aggregate fuel'].index, inplace=True)\n",
    "\tdf.drop(df[df['Subcategory'].str.contains('per capita', na=False)].index, inplace=True)\n",
    "\tdf.drop(df[df['Variable'] == 'CO2 intensity'].index, inplace=True)\n",
    "\tdf.drop(df[df['Variable'].str.contains('Total', na=False)].index, inplace=True)\n",
    "\tdf.drop(df[df['Variable'].str.contains(' and ', na=False)].index, inplace=True)\n",
    "\tdf.drop(df[df['Unit'] == '%'].index, inplace=True)\n",
    "\tdf.to_csv(PROC_ENERGY_CSV, index=False)"
   ]
  },
  {
   "cell_type": "markdown",
   "id": "3a03080d",
   "metadata": {},
   "source": [
    "# Main block"
   ]
  },
  {
   "cell_type": "code",
   "execution_count": 45,
   "id": "236f1fec",
   "metadata": {},
   "outputs": [],
   "source": [
    "pre_process_energy_data()"
   ]
  }
 ],
 "metadata": {
  "kernelspec": {
   "display_name": "ambiente",
   "language": "python",
   "name": "python3"
  },
  "language_info": {
   "codemirror_mode": {
    "name": "ipython",
    "version": 3
   },
   "file_extension": ".py",
   "mimetype": "text/x-python",
   "name": "python",
   "nbconvert_exporter": "python",
   "pygments_lexer": "ipython3",
   "version": "3.12.3"
  }
 },
 "nbformat": 4,
 "nbformat_minor": 5
}
