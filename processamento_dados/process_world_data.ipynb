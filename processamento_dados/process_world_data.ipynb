{
 "cells": [
  {
   "cell_type": "code",
   "execution_count": 19,
   "metadata": {},
   "outputs": [],
   "source": [
    "import pandas as pd"
   ]
  },
  {
   "cell_type": "code",
   "execution_count": 20,
   "metadata": {},
   "outputs": [],
   "source": [
    "# Altere os diretórios do arquivo csv da sua máquina\n",
    "WDI_DATASET_PATH = \"/home/c-ec2023/ra245202/materias/mc536/projeto/MC536/bancos/WDICSV.csv\"\n",
    "WDI_PROCESSADO_PATH = \"/home/c-ec2023/ra245202/materias/mc536/projeto/MC536/bancos/WDI_processado.csv\""
   ]
  },
  {
   "cell_type": "code",
   "execution_count": 21,
   "metadata": {},
   "outputs": [],
   "source": [
    "# Leitura do csv como um dataframe do pandas\n",
    "dado = pd.read_csv(WDI_DATASET_PATH)"
   ]
  },
  {
   "cell_type": "code",
   "execution_count": 22,
   "metadata": {},
   "outputs": [],
   "source": [
    "# Leitura dos indicadores selecionados\n",
    "with open(\"indicadores_selecionados.txt\", \"r\") as file:\n",
    "    indicadores_selecionados = {line.strip() for line in file}\n",
    "\n",
    "# Gerar um dataframe com apenas os indicadores selecionados\n",
    "dado_filtrado = dado[dado['Indicator Name'].isin(indicadores_selecionados)]\n",
    "\n",
    "# Gerar um csv com os somente os indicadores selecionados\n",
    "# dado_filtrado.to_csv(\"dado_filtrado.csv\", index=False)"
   ]
  },
  {
   "cell_type": "code",
   "execution_count": 23,
   "metadata": {},
   "outputs": [],
   "source": [
    "# Comprimir as colunas de anos em uma\n",
    "dado_transformado = dado_filtrado.melt(\n",
    "    id_vars=['Country Name', 'Country Code', 'Indicator Name', 'Indicator Code'],\n",
    "    var_name='Ano',\n",
    "    value_name='Valor'\n",
    ")\n",
    "\n",
    "# Gerar um csv com os anos comprimidos\n",
    "# dado_transformado.to_csv(\"dado_transformado.csv\", index=False)"
   ]
  },
  {
   "cell_type": "code",
   "execution_count": 24,
   "metadata": {},
   "outputs": [],
   "source": [
    "# Ordenando dataframe por nome do pais e ano para melhor visualização\n",
    "dado_ordenado = dado_transformado.sort_values(by=['Country Name', 'Ano'])\n",
    "\n",
    "# Gerar csv com dados ordenados\n",
    "# dado_ordenado.to_csv(\"dado_ordenado.csv\", index=False)"
   ]
  },
  {
   "cell_type": "code",
   "execution_count": 25,
   "metadata": {},
   "outputs": [],
   "source": [
    "# Criando dataframe com as colunas de interesse\n",
    "dado_pivotado = dado_ordenado.pivot_table(\n",
    "    index=['Country Name', 'Country Code', 'Ano'],\n",
    "    columns='Indicator Name',\n",
    "    values='Valor'\n",
    ").reset_index()\n",
    "\n",
    "dado_pivotado.to_csv(WDI_PROCESSADO_PATH, index=False)"
   ]
  }
 ],
 "metadata": {
  "kernelspec": {
   "display_name": ".venv",
   "language": "python",
   "name": "python3"
  },
  "language_info": {
   "codemirror_mode": {
    "name": "ipython",
    "version": 3
   },
   "file_extension": ".py",
   "mimetype": "text/x-python",
   "name": "python",
   "nbconvert_exporter": "python",
   "pygments_lexer": "ipython3",
   "version": "3.14.0a2"
  }
 },
 "nbformat": 4,
 "nbformat_minor": 2
}
